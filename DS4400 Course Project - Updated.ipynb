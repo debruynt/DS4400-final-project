{
 "cells":[
  {
   "cell_type":"markdown",
   "source":[
    "# DS4400 Course Project\n",
    "\n",
    "# Beating the book: Machine learning analysis on how to beat the sportsbook\n",
    "\n",
    "## Vivek Divakarla, Travis Debruyn"
   ],
   "attachments":{
    
   },
   "metadata":{
    "datalore":{
     "node_id":"43lRuOmF7g9gqNaVfzKCmY",
     "type":"MD",
     "hide_input_from_viewers":true,
     "hide_output_from_viewers":true
    }
   }
  },
  {
   "cell_type":"markdown",
   "source":[
    "## **Data Import\/Cleaning**"
   ],
   "attachments":{
    
   },
   "metadata":{
    "datalore":{
     "node_id":"UuTjdwA09jhptSWMIjU8kG",
     "type":"MD",
     "hide_input_from_viewers":true,
     "hide_output_from_viewers":true
    }
   }
  },
  {
   "cell_type":"code",
   "source":[
    "import seaborn as sns\n",
    "import pandas as pd\n",
    "import matplotlib.pyplot as plt"
   ],
   "execution_count":2,
   "outputs":[
    
   ],
   "metadata":{
    "datalore":{
     "node_id":"jhAyu8b3n4NZuhyoTEjaAd",
     "type":"CODE",
     "hide_input_from_viewers":true,
     "hide_output_from_viewers":true
    }
   }
  },
  {
   "cell_type":"code",
   "source":[
    "#Importing data from CSV Files\n",
    "\n",
    "nflodds2023 = pd.read_csv('nflodds2023 - Sheet1.csv')\n",
    "offensedefense2023 = pd.read_csv('offdefstats - updated.csv')\n",
    "nflodds2023['Point Differential'] = nflodds2023['Home Score'] - nflodds2023['Away Score']\n",
    "nflodds2023['RealTotal'] = nflodds2023['Home Score'] + nflodds2023['Away Score']\n",
    "nflodds2023['Home Covers Spread'] = nflodds2023['Point Differential'] > nflodds2023['Home Line Close']\n",
    "nflodds2023['Over Total'] = nflodds2023['RealTotal'] > nflodds2023['Total Score Close']"
   ],
   "execution_count":3,
   "outputs":[
    
   ],
   "metadata":{
    "datalore":{
     "node_id":"BUBX7uKBViIiCbZkRm6W63",
     "type":"CODE",
     "hide_input_from_viewers":true,
     "hide_output_from_viewers":true
    }
   }
  },
  {
   "cell_type":"code",
   "source":[
    "teamToID = {'Arizona Cardinals':0,'Atlanta Falcons':1,'Baltimore Ravens':2,'Buffalo Bills':3,'Carolina Panthers':4,'Chicago Bears':5,'Cincinnati Bengals':6,'Cleveland Browns':7,'Dallas Cowboys':8,'Denver Broncos':9,'Detroit Lions':10,'Green Bay Packers':11,'Houston Texans':12,'Indianapolis Colts':13,'Jacksonville Jaguars':14,'Kansas City Chiefs':15,'Las Vegas Raiders':16,'Los Angeles Chargers':17,'Los Angeles Rams':18,'Miami Dolphins':19,'Minnesota Vikings':20,'New England Patriots':21,'New Orleans Saints':22,'New York Giants':23,'New York Jets':24,'Philadelphia Eagles':25,'Pittsburgh Steelers':26,'San Francisco 49ers':27,'Seattle Seahawks':28,'Tampa Bay Buccaneers':29,'Tennessee Titans':30,'Washington Commanders':31}\n",
    "nflodds2023[\"Home Team\"].replace(teamToID, inplace=True)\n",
    "nflodds2023[\"Away Team\"].replace(teamToID, inplace=True)"
   ],
   "execution_count":4,
   "outputs":[
    
   ],
   "metadata":{
    "datalore":{
     "node_id":"LEgkXoPgbNd78lLRAFFRX7",
     "type":"CODE",
     "hide_input_from_viewers":true,
     "hide_output_from_viewers":true
    }
   }
  },
  {
   "cell_type":"code",
   "source":[
    "def getstat(teamID,col):\n",
    "    stat = offensedefense2023.loc[teamID,col]\n",
    "    return stat"
   ],
   "execution_count":5,
   "outputs":[
    
   ],
   "metadata":{
    "datalore":{
     "node_id":"5CpkYsuL0N6Y8Hf0iBWcze",
     "type":"CODE",
     "hide_input_from_viewers":true,
     "hide_output_from_viewers":true
    }
   }
  },
  {
   "cell_type":"code",
   "source":[
    "columns = ['W%','Points Per Play','Yards Per Play','Passing Yards per Attempt','Rushing Yards Per Attempt','Offensive Score%','Turnover%','Expected Points','Yards per play allowed','Yards per pass attempt allowed','Yards per rush attempt allowed','Def Score%','Def TO%','Def Expected Points']\n",
    "for column in columns:\n",
    "    homeStr = 'Home' + column\n",
    "    awayStr = 'Away' + column\n",
    "    nflodds2023[homeStr] = nflodds2023['Home Team'].apply(getstat, args=(column,))\n",
    "    nflodds2023[awayStr] = nflodds2023['Away Team'].apply(getstat, args=(column,))"
   ],
   "execution_count":6,
   "outputs":[
    
   ],
   "metadata":{
    "datalore":{
     "node_id":"Rl1xabMKgIx8lzSrr3rTeH",
     "type":"CODE",
     "hide_input_from_viewers":true,
     "hide_output_from_viewers":true
    }
   }
  },
  {
   "cell_type":"code",
   "source":[
    "nflodds2023 = nflodds2023.drop(['Overtime?','Playoff Game?','Neutral Venue?','Home Odds Open','Home Odds Min','Home Odds Max','Away Odds Open','Away Odds Max','Away Odds Min','Home Line Open','Home Line Min','Home Line Max','Away Line Open','Away Line Min','Away Line Max','Home Line Odds Open','Home Line Odds Min','Home Line Odds Max','Away Line Odds Open','Away Line Odds Min','Away Line Odds Max','Total Score Open','Total Score Min','Total Score Max','Total Score Over Open','Total Score Over Min','Total Score Over Max','Total Score Under Open','Total Score Under Min','Total Score Under Max','Notes'],axis=1)"
   ],
   "execution_count":7,
   "outputs":[
    
   ],
   "metadata":{
    "datalore":{
     "node_id":"Th2YCxO6Kx1ef97rJJAbgH",
     "type":"CODE",
     "hide_input_from_viewers":true,
     "hide_output_from_viewers":true
    }
   }
  },
  {
   "cell_type":"code",
   "source":[
    "tf_dict = {True: 1, False: 0}\n",
    "nflodds2023['Home Covers Spread'].replace(tf_dict, inplace = True)\n",
    "nflodds2023[\"Over Total\"].replace(tf_dict, inplace = True)"
   ],
   "execution_count":8,
   "outputs":[
    
   ],
   "metadata":{
    "datalore":{
     "node_id":"5mMwGptmB2z3A4urn0WY3E",
     "type":"CODE",
     "hide_input_from_viewers":true,
     "hide_output_from_viewers":true
    }
   }
  },
  {
   "cell_type":"code",
   "source":[
    "nflodds2023.head()"
   ],
   "execution_count":9,
   "outputs":[
    {
     "data":{
      "text\/html":[
       "<div>\n",
       "<style scoped>\n",
       "    .dataframe tbody tr th:only-of-type {\n",
       "        vertical-align: middle;\n",
       "    }\n",
       "\n",
       "    .dataframe tbody tr th {\n",
       "        vertical-align: top;\n",
       "    }\n",
       "\n",
       "    .dataframe thead th {\n",
       "        text-align: right;\n",
       "    }\n",
       "<\/style>\n",
       "<table border=\"1\" class=\"dataframe\">\n",
       "  <thead>\n",
       "    <tr style=\"text-align: right;\">\n",
       "      <th><\/th>\n",
       "      <th>Date<\/th>\n",
       "      <th>Home Team<\/th>\n",
       "      <th>Away Team<\/th>\n",
       "      <th>Home Score<\/th>\n",
       "      <th>Away Score<\/th>\n",
       "      <th>Home Odds Close<\/th>\n",
       "      <th>Away Odds Close<\/th>\n",
       "      <th>Home Line Close<\/th>\n",
       "      <th>Away Line Close<\/th>\n",
       "      <th>Home Line Odds Close<\/th>\n",
       "      <th>...<\/th>\n",
       "      <th>HomeYards per pass attempt allowed<\/th>\n",
       "      <th>AwayYards per pass attempt allowed<\/th>\n",
       "      <th>HomeYards per rush attempt allowed<\/th>\n",
       "      <th>AwayYards per rush attempt allowed<\/th>\n",
       "      <th>HomeDef Score%<\/th>\n",
       "      <th>AwayDef Score%<\/th>\n",
       "      <th>HomeDef TO%<\/th>\n",
       "      <th>AwayDef TO%<\/th>\n",
       "      <th>HomeDef Expected Points<\/th>\n",
       "      <th>AwayDef Expected Points<\/th>\n",
       "    <\/tr>\n",
       "  <\/thead>\n",
       "  <tbody>\n",
       "    <tr>\n",
       "      <th>0<\/th>\n",
       "      <td>2023-02-12<\/td>\n",
       "      <td>25<\/td>\n",
       "      <td>15<\/td>\n",
       "      <td>35<\/td>\n",
       "      <td>38<\/td>\n",
       "      <td>1.83<\/td>\n",
       "      <td>2.00<\/td>\n",
       "      <td>-1.0<\/td>\n",
       "      <td>1.0<\/td>\n",
       "      <td>1.91<\/td>\n",
       "      <td>...<\/td>\n",
       "      <td>4.9<\/td>\n",
       "      <td>5.6<\/td>\n",
       "      <td>4.6<\/td>\n",
       "      <td>4.4<\/td>\n",
       "      <td>32.4<\/td>\n",
       "      <td>35.9<\/td>\n",
       "      <td>15.1<\/td>\n",
       "      <td>10.3<\/td>\n",
       "      <td>20.73<\/td>\n",
       "      <td>-65.59<\/td>\n",
       "    <\/tr>\n",
       "    <tr>\n",
       "      <th>1<\/th>\n",
       "      <td>2023-01-29<\/td>\n",
       "      <td>15<\/td>\n",
       "      <td>6<\/td>\n",
       "      <td>23<\/td>\n",
       "      <td>20<\/td>\n",
       "      <td>1.77<\/td>\n",
       "      <td>2.10<\/td>\n",
       "      <td>-2.0<\/td>\n",
       "      <td>2.0<\/td>\n",
       "      <td>1.91<\/td>\n",
       "      <td>...<\/td>\n",
       "      <td>5.6<\/td>\n",
       "      <td>6.2<\/td>\n",
       "      <td>4.4<\/td>\n",
       "      <td>4.2<\/td>\n",
       "      <td>35.9<\/td>\n",
       "      <td>36.4<\/td>\n",
       "      <td>10.3<\/td>\n",
       "      <td>13.1<\/td>\n",
       "      <td>-65.59<\/td>\n",
       "      <td>-20.02<\/td>\n",
       "    <\/tr>\n",
       "    <tr>\n",
       "      <th>2<\/th>\n",
       "      <td>2023-01-29<\/td>\n",
       "      <td>25<\/td>\n",
       "      <td>27<\/td>\n",
       "      <td>31<\/td>\n",
       "      <td>7<\/td>\n",
       "      <td>1.65<\/td>\n",
       "      <td>2.35<\/td>\n",
       "      <td>-3.0<\/td>\n",
       "      <td>3.0<\/td>\n",
       "      <td>2.00<\/td>\n",
       "      <td>...<\/td>\n",
       "      <td>4.9<\/td>\n",
       "      <td>5.9<\/td>\n",
       "      <td>4.6<\/td>\n",
       "      <td>3.4<\/td>\n",
       "      <td>32.4<\/td>\n",
       "      <td>25.7<\/td>\n",
       "      <td>15.1<\/td>\n",
       "      <td>15.3<\/td>\n",
       "      <td>20.73<\/td>\n",
       "      <td>56.26<\/td>\n",
       "    <\/tr>\n",
       "    <tr>\n",
       "      <th>3<\/th>\n",
       "      <td>2023-01-22<\/td>\n",
       "      <td>27<\/td>\n",
       "      <td>8<\/td>\n",
       "      <td>19<\/td>\n",
       "      <td>12<\/td>\n",
       "      <td>1.50<\/td>\n",
       "      <td>2.70<\/td>\n",
       "      <td>-3.5<\/td>\n",
       "      <td>3.5<\/td>\n",
       "      <td>1.91<\/td>\n",
       "      <td>...<\/td>\n",
       "      <td>5.9<\/td>\n",
       "      <td>5.7<\/td>\n",
       "      <td>3.4<\/td>\n",
       "      <td>4.4<\/td>\n",
       "      <td>25.7<\/td>\n",
       "      <td>33.5<\/td>\n",
       "      <td>15.3<\/td>\n",
       "      <td>16.2<\/td>\n",
       "      <td>56.26<\/td>\n",
       "      <td>31.77<\/td>\n",
       "    <\/tr>\n",
       "    <tr>\n",
       "      <th>4<\/th>\n",
       "      <td>2023-01-22<\/td>\n",
       "      <td>3<\/td>\n",
       "      <td>6<\/td>\n",
       "      <td>10<\/td>\n",
       "      <td>27<\/td>\n",
       "      <td>1.38<\/td>\n",
       "      <td>3.15<\/td>\n",
       "      <td>-6.0<\/td>\n",
       "      <td>6.0<\/td>\n",
       "      <td>1.91<\/td>\n",
       "      <td>...<\/td>\n",
       "      <td>5.6<\/td>\n",
       "      <td>6.2<\/td>\n",
       "      <td>4.3<\/td>\n",
       "      <td>4.2<\/td>\n",
       "      <td>31.0<\/td>\n",
       "      <td>36.4<\/td>\n",
       "      <td>14.3<\/td>\n",
       "      <td>13.1<\/td>\n",
       "      <td>4.46<\/td>\n",
       "      <td>-20.02<\/td>\n",
       "    <\/tr>\n",
       "  <\/tbody>\n",
       "<\/table>\n",
       "<p>5 rows × 46 columns<\/p>\n",
       "<\/div>"
      ]
     },
     "metadata":{
      
     },
     "output_type":"display_data"
    }
   ],
   "metadata":{
    "datalore":{
     "node_id":"QD5JD7hQaP2aFgllExbIIt",
     "type":"CODE",
     "hide_input_from_viewers":true,
     "hide_output_from_viewers":true
    }
   }
  },
  {
   "cell_type":"markdown",
   "source":[
    "Cleaning this data involves merging two dataframes together. Our first dataframe lists the odds and final scores for every game in the 2022-2023 NFL season. The second includes season long stats for every NFL team during this season. The season long stats are what we chose to use as the features in this problem, and the target variables are whether the home team covers the spread and whether the posted total goes over or under. We decided on these features because we wanted to see which stats impacted each team's success the most, and if there was a betting edge by looking at specific advanced stats. "
   ],
   "attachments":{
    
   },
   "metadata":{
    "datalore":{
     "node_id":"uPz8SnLtXf6lfTqdRS2PpD",
     "type":"MD",
     "hide_input_from_viewers":true,
     "hide_output_from_viewers":true
    }
   }
  },
  {
   "cell_type":"markdown",
   "source":[
    "## **Data Exploration**"
   ],
   "attachments":{
    
   },
   "metadata":{
    "datalore":{
     "node_id":"Jpd0Zb57kiDgZg92bW60FQ",
     "type":"MD",
     "hide_input_from_viewers":true,
     "hide_output_from_viewers":true
    }
   }
  },
  {
   "cell_type":"code",
   "source":[
    "sns.set(style='darkgrid')\n",
    "sns.scatterplot(x = 'W',y = 'Yards Per Play',data=offensedefense2023).set_title('Offense Yards Per Play compared to games won')"
   ],
   "execution_count":10,
   "outputs":[
    {
     "data":{
      "text\/plain":[
       "Text(0.5, 1.0, 'Offense Yards Per Play compared to games won')"
      ]
     },
     "metadata":{
      
     },
     "output_type":"display_data"
    },
    {
     "data":{
      "image\/png":"[encoded data removed]"
     },
     "metadata":{
      "image\/png":{
       
      }
     },
     "output_type":"display_data"
    }
   ],
   "metadata":{
    "datalore":{
     "node_id":"pOz1jFyjW2fmZAmGNqMxeP",
     "type":"CODE",
     "hide_input_from_viewers":true,
     "hide_output_from_viewers":true
    }
   }
  },
  {
   "cell_type":"markdown",
   "source":[
    "### Graph 1 Explanation\n",
    "\n",
    "In the exploratory data analysis for this project, we wanted to understand which NFL stats contributed the most to winning, and thus covering more spreads. One stat we thought about was Yards Per Play, as it is a way to understand how efficient offenses are. From this graph, we can see that there certainly is a positive correlation between the stat and winning, as the two 14-win teams are top 5 in the metric, while the worst team in Yards Per Play is also the worst team in the league. There are more stats that have to be understood but this is a good starting point to understanding a team's level"
   ],
   "attachments":{
    
   },
   "metadata":{
    "datalore":{
     "node_id":"X1noPA0V76huSeYFLc2eOw",
     "type":"MD",
     "hide_input_from_viewers":true,
     "hide_output_from_viewers":true
    }
   }
  },
  {
   "cell_type":"code",
   "source":[
    "sns.set(style='darkgrid')\n",
    "sns.scatterplot(x = 'W',y = 'Expected Points',data=offensedefense2023).set_title('Expected Points compared to games won')"
   ],
   "execution_count":11,
   "outputs":[
    {
     "data":{
      "text\/plain":[
       "Text(0.5, 1.0, 'Expected Points compared to games won')"
      ]
     },
     "metadata":{
      
     },
     "output_type":"display_data"
    },
    {
     "data":{
      "image\/png":"[encoded data removed]"
     },
     "metadata":{
      "image\/png":{
       
      }
     },
     "output_type":"display_data"
    }
   ],
   "metadata":{
    "datalore":{
     "node_id":"Wbh6OyZjkZZNX7MaXrwE90",
     "type":"CODE",
     "hide_input_from_viewers":true,
     "hide_output_from_viewers":true
    }
   }
  },
  {
   "cell_type":"markdown",
   "source":[
    "### Graph 2 Explanation\n",
    "\n",
    "A second stat we chose to look at was Expected Points, a stat from Pro Football Reference which calculated expected points by representing the estimated point value at the start of a given play, based on down, distance, and field position. Based on where a team is on offense Expected Points is a way to calculate what the average team would do on that possesion. Makes a lot of sense where a lot of the top teams are also great in generating expected points, but it's very mixed in the middle of the graph. "
   ],
   "attachments":{
    
   },
   "metadata":{
    "datalore":{
     "node_id":"gY6SVol2ZfiFXIkBhICxtC",
     "type":"MD",
     "hide_input_from_viewers":true,
     "hide_output_from_viewers":true
    }
   }
  },
  {
   "cell_type":"code",
   "source":[
    "sns.set(style='darkgrid')\n",
    "sns.scatterplot(x='Point Differential',y='Home Line Close',data=nflodds2023,hue='Home Covers Spread').set_title('Point Differential vs Closing Line in relation to Covering the Spread')"
   ],
   "execution_count":12,
   "outputs":[
    {
     "data":{
      "text\/plain":[
       "Text(0.5, 1.0, 'Point Differential vs Closing Line in relation to Covering the Spread')"
      ]
     },
     "metadata":{
      
     },
     "output_type":"display_data"
    },
    {
     "data":{
      "image\/png":"[encoded data removed]"
     },
     "metadata":{
      "image\/png":{
       
      }
     },
     "output_type":"display_data"
    }
   ],
   "metadata":{
    "datalore":{
     "node_id":"DFmpzcu5zE2PeH6swzmvCK",
     "type":"CODE",
     "hide_input_from_viewers":true,
     "hide_output_from_viewers":true
    }
   }
  },
  {
   "cell_type":"markdown",
   "source":[
    "### Graph 3 Explanation\n",
    "\n",
    "This graph shows the scatter of all 2023 NFL games in terms of point differential and the closing line. The goal of this graph was to see how accurate the lines are to the actual point differential in the game, and there are mixed results. There are a few clusters in the middle of the graph, but also many outliers where teams win by 30+ but were not favored that highly. This information could be interesting to see how Vegas may adjust their lines in the future. "
   ],
   "attachments":{
    
   },
   "metadata":{
    "datalore":{
     "node_id":"V8CATZfmmc8koNmVtnpLFU",
     "type":"MD",
     "hide_input_from_viewers":true,
     "hide_output_from_viewers":true
    }
   }
  },
  {
   "cell_type":"markdown",
   "source":[
    "## Model Training and Testing"
   ],
   "attachments":{
    
   },
   "metadata":{
    "datalore":{
     "node_id":"xVMhejrolJPIZUWAkv82c2",
     "type":"MD",
     "hide_input_from_viewers":true,
     "hide_output_from_viewers":true
    }
   }
  },
  {
   "cell_type":"code",
   "source":[
    "from sklearn.model_selection import train_test_split\n",
    "from sklearn.linear_model import LogisticRegression\n",
    "from sklearn.discriminant_analysis import LinearDiscriminantAnalysis,QuadraticDiscriminantAnalysis\n",
    "from sklearn.ensemble import RandomForestClassifier\n",
    "from sklearn.neighbors import KNeighborsClassifier\n",
    "from sklearn.tree import DecisionTreeRegressor\n",
    "from sklearn.metrics import mean_squared_error"
   ],
   "execution_count":42,
   "outputs":[
    
   ],
   "metadata":{
    "datalore":{
     "node_id":"IlvhS9BY1QZTRIYTyrYjUr",
     "type":"CODE",
     "hide_input_from_viewers":true,
     "hide_output_from_viewers":true
    }
   }
  },
  {
   "cell_type":"code",
   "source":[
    "#Set up features and targets\n",
    "\n",
    "features = nflodds2023.drop(['Date', 'Home Team', 'Away Team', 'Home Score', 'Away Score','Home Odds Close', 'Away Odds Close', 'Home Line Close',\n",
    "       'Away Line Close', 'Home Line Odds Close', 'Away Line Odds Close',\n",
    "       'Total Score Close', 'Total Score Over Close',\n",
    "       'Total Score Under Close', 'Point Differential', 'RealTotal',\n",
    "       'Home Covers Spread', 'Over Total'], axis=1)\n",
    "target = nflodds2023['Home Covers Spread']\n",
    "\n",
    "X_train, X_test, y_train, y_test = train_test_split(features, target, random_state=3000)"
   ],
   "execution_count":14,
   "outputs":[
    
   ],
   "metadata":{
    "datalore":{
     "node_id":"nrZX6qhmmFCue4YTnOHKEz",
     "type":"CODE",
     "hide_input_from_viewers":true,
     "hide_output_from_viewers":true
    }
   }
  },
  {
   "cell_type":"code",
   "source":[
    "lr = LogisticRegression(max_iter=10000)\n",
    "model = lr.fit(X_train, y_train)\n",
    "test_error = 1 - model.score(X_test, y_test)\n",
    "test_error"
   ],
   "execution_count":15,
   "outputs":[
    {
     "data":{
      "text\/plain":[
       "0.2676056338028169"
      ]
     },
     "metadata":{
      
     },
     "output_type":"display_data"
    }
   ],
   "metadata":{
    "datalore":{
     "node_id":"tdEcdoMJsrPJ3YYxilumMH",
     "type":"CODE",
     "hide_input_from_viewers":true,
     "hide_output_from_viewers":true
    }
   }
  },
  {
   "cell_type":"code",
   "source":[
    "lda = LinearDiscriminantAnalysis()\n",
    "model_lda = lda.fit(X_train, y_train)\n",
    "lda_err = 1 - model_lda.score(X_test, y_test)\n",
    "lda_err"
   ],
   "execution_count":16,
   "outputs":[
    {
     "data":{
      "text\/plain":[
       "0.2535211267605634"
      ]
     },
     "metadata":{
      
     },
     "output_type":"display_data"
    }
   ],
   "metadata":{
    "datalore":{
     "node_id":"1Xtjklnygx5CO9Stn94UPO",
     "type":"CODE",
     "hide_input_from_viewers":true,
     "hide_output_from_viewers":true
    }
   }
  },
  {
   "cell_type":"code",
   "source":[
    "qda = QuadraticDiscriminantAnalysis()\n",
    "model_qda = qda.fit(X_train, y_train)\n",
    "qda_err = 1 - model_qda.score(X_test, y_test)\n",
    "qda_err"
   ],
   "execution_count":17,
   "outputs":[
    {
     "data":{
      "text\/plain":[
       "0.3380281690140845"
      ]
     },
     "metadata":{
      
     },
     "output_type":"display_data"
    }
   ],
   "metadata":{
    "datalore":{
     "node_id":"kzJfXvgW3n2KqbJ7kS0CnD",
     "type":"CODE",
     "hide_input_from_viewers":true,
     "hide_output_from_viewers":true
    }
   }
  },
  {
   "cell_type":"code",
   "source":[
    "for i in range(1,20):\n",
    "    knn  = KNeighborsClassifier(n_neighbors = i)\n",
    "    knn.fit(X_train,y_train)\n",
    "    print(i,\" Neighbors: \",1-knn.score(X_test,y_test))"
   ],
   "execution_count":18,
   "outputs":[
    {
     "name":"stdout",
     "text":[
      "1  Neighbors:  0.4225352112676056\n",
      "2  Neighbors:  0.3943661971830986\n",
      "3  Neighbors:  0.3802816901408451\n",
      "4  Neighbors:  0.4084507042253521\n",
      "5  Neighbors:  0.295774647887324\n",
      "6  Neighbors:  0.3661971830985915\n",
      "7  Neighbors:  0.2535211267605634\n",
      "8  Neighbors:  0.323943661971831\n",
      "9  Neighbors:  0.295774647887324\n",
      "10  Neighbors:  0.3661971830985915\n",
      "11  Neighbors:  0.323943661971831\n",
      "12  Neighbors:  0.3380281690140845\n",
      "13  Neighbors:  0.295774647887324\n",
      "14  Neighbors:  0.3380281690140845\n",
      "15  Neighbors:  0.352112676056338\n",
      "16  Neighbors:  0.352112676056338\n",
      "17  Neighbors:  0.3661971830985915\n",
      "18  Neighbors:  0.3661971830985915\n",
      "19  Neighbors:  0.352112676056338\n"
     ],
     "output_type":"stream"
    },
    {
     "name":"stderr",
     "text":[
      "\/opt\/python\/envs\/default\/lib\/python3.8\/site-packages\/sklearn\/neighbors\/_classification.py:228: FutureWarning: Unlike other reduction functions (e.g. `skew`, `kurtosis`), the default behavior of `mode` typically preserves the axis it acts along. In SciPy 1.11.0, this behavior will change: the default value of `keepdims` will become False, the `axis` over which the statistic is taken will be eliminated, and the value None will no longer be accepted. Set `keepdims` to True or False to avoid this warning.\n",
      "  mode, _ = stats.mode(_y[neigh_ind, k], axis=1)\n",
      "\/opt\/python\/envs\/default\/lib\/python3.8\/site-packages\/sklearn\/neighbors\/_classification.py:228: FutureWarning: Unlike other reduction functions (e.g. `skew`, `kurtosis`), the default behavior of `mode` typically preserves the axis it acts along. In SciPy 1.11.0, this behavior will change: the default value of `keepdims` will become False, the `axis` over which the statistic is taken will be eliminated, and the value None will no longer be accepted. Set `keepdims` to True or False to avoid this warning.\n",
      "  mode, _ = stats.mode(_y[neigh_ind, k], axis=1)\n",
      "\/opt\/python\/envs\/default\/lib\/python3.8\/site-packages\/sklearn\/neighbors\/_classification.py:228: FutureWarning: Unlike other reduction functions (e.g. `skew`, `kurtosis`), the default behavior of `mode` typically preserves the axis it acts along. In SciPy 1.11.0, this behavior will change: the default value of `keepdims` will become False, the `axis` over which the statistic is taken will be eliminated, and the value None will no longer be accepted. Set `keepdims` to True or False to avoid this warning.\n",
      "  mode, _ = stats.mode(_y[neigh_ind, k], axis=1)\n",
      "\/opt\/python\/envs\/default\/lib\/python3.8\/site-packages\/sklearn\/neighbors\/_classification.py:228: FutureWarning: Unlike other reduction functions (e.g. `skew`, `kurtosis`), the default behavior of `mode` typically preserves the axis it acts along. In SciPy 1.11.0, this behavior will change: the default value of `keepdims` will become False, the `axis` over which the statistic is taken will be eliminated, and the value None will no longer be accepted. Set `keepdims` to True or False to avoid this warning.\n",
      "  mode, _ = stats.mode(_y[neigh_ind, k], axis=1)\n",
      "\/opt\/python\/envs\/default\/lib\/python3.8\/site-packages\/sklearn\/neighbors\/_classification.py:228: FutureWarning: Unlike other reduction functions (e.g. `skew`, `kurtosis`), the default behavior of `mode` typically preserves the axis it acts along. In SciPy 1.11.0, this behavior will change: the default value of `keepdims` will become False, the `axis` over which the statistic is taken will be eliminated, and the value None will no longer be accepted. Set `keepdims` to True or False to avoid this warning.\n",
      "  mode, _ = stats.mode(_y[neigh_ind, k], axis=1)\n",
      "\/opt\/python\/envs\/default\/lib\/python3.8\/site-packages\/sklearn\/neighbors\/_classification.py:228: FutureWarning: Unlike other reduction functions (e.g. `skew`, `kurtosis`), the default behavior of `mode` typically preserves the axis it acts along. In SciPy 1.11.0, this behavior will change: the default value of `keepdims` will become False, the `axis` over which the statistic is taken will be eliminated, and the value None will no longer be accepted. Set `keepdims` to True or False to avoid this warning.\n",
      "  mode, _ = stats.mode(_y[neigh_ind, k], axis=1)\n",
      "\/opt\/python\/envs\/default\/lib\/python3.8\/site-packages\/sklearn\/neighbors\/_classification.py:228: FutureWarning: Unlike other reduction functions (e.g. `skew`, `kurtosis`), the default behavior of `mode` typically preserves the axis it acts along. In SciPy 1.11.0, this behavior will change: the default value of `keepdims` will become False, the `axis` over which the statistic is taken will be eliminated, and the value None will no longer be accepted. Set `keepdims` to True or False to avoid this warning.\n",
      "  mode, _ = stats.mode(_y[neigh_ind, k], axis=1)\n",
      "\/opt\/python\/envs\/default\/lib\/python3.8\/site-packages\/sklearn\/neighbors\/_classification.py:228: FutureWarning: Unlike other reduction functions (e.g. `skew`, `kurtosis`), the default behavior of `mode` typically preserves the axis it acts along. In SciPy 1.11.0, this behavior will change: the default value of `keepdims` will become False, the `axis` over which the statistic is taken will be eliminated, and the value None will no longer be accepted. Set `keepdims` to True or False to avoid this warning.\n",
      "  mode, _ = stats.mode(_y[neigh_ind, k], axis=1)\n",
      "\/opt\/python\/envs\/default\/lib\/python3.8\/site-packages\/sklearn\/neighbors\/_classification.py:228: FutureWarning: Unlike other reduction functions (e.g. `skew`, `kurtosis`), the default behavior of `mode` typically preserves the axis it acts along. In SciPy 1.11.0, this behavior will change: the default value of `keepdims` will become False, the `axis` over which the statistic is taken will be eliminated, and the value None will no longer be accepted. Set `keepdims` to True or False to avoid this warning.\n",
      "  mode, _ = stats.mode(_y[neigh_ind, k], axis=1)\n",
      "\/opt\/python\/envs\/default\/lib\/python3.8\/site-packages\/sklearn\/neighbors\/_classification.py:228: FutureWarning: Unlike other reduction functions (e.g. `skew`, `kurtosis`), the default behavior of `mode` typically preserves the axis it acts along. In SciPy 1.11.0, this behavior will change: the default value of `keepdims` will become False, the `axis` over which the statistic is taken will be eliminated, and the value None will no longer be accepted. Set `keepdims` to True or False to avoid this warning.\n",
      "  mode, _ = stats.mode(_y[neigh_ind, k], axis=1)\n",
      "\/opt\/python\/envs\/default\/lib\/python3.8\/site-packages\/sklearn\/neighbors\/_classification.py:228: FutureWarning: Unlike other reduction functions (e.g. `skew`, `kurtosis`), the default behavior of `mode` typically preserves the axis it acts along. In SciPy 1.11.0, this behavior will change: the default value of `keepdims` will become False, the `axis` over which the statistic is taken will be eliminated, and the value None will no longer be accepted. Set `keepdims` to True or False to avoid this warning.\n",
      "  mode, _ = stats.mode(_y[neigh_ind, k], axis=1)\n",
      "\/opt\/python\/envs\/default\/lib\/python3.8\/site-packages\/sklearn\/neighbors\/_classification.py:228: FutureWarning: Unlike other reduction functions (e.g. `skew`, `kurtosis`), the default behavior of `mode` typically preserves the axis it acts along. In SciPy 1.11.0, this behavior will change: the default value of `keepdims` will become False, the `axis` over which the statistic is taken will be eliminated, and the value None will no longer be accepted. Set `keepdims` to True or False to avoid this warning.\n",
      "  mode, _ = stats.mode(_y[neigh_ind, k], axis=1)\n",
      "\/opt\/python\/envs\/default\/lib\/python3.8\/site-packages\/sklearn\/neighbors\/_classification.py:228: FutureWarning: Unlike other reduction functions (e.g. `skew`, `kurtosis`), the default behavior of `mode` typically preserves the axis it acts along. In SciPy 1.11.0, this behavior will change: the default value of `keepdims` will become False, the `axis` over which the statistic is taken will be eliminated, and the value None will no longer be accepted. Set `keepdims` to True or False to avoid this warning.\n",
      "  mode, _ = stats.mode(_y[neigh_ind, k], axis=1)\n",
      "\/opt\/python\/envs\/default\/lib\/python3.8\/site-packages\/sklearn\/neighbors\/_classification.py:228: FutureWarning: Unlike other reduction functions (e.g. `skew`, `kurtosis`), the default behavior of `mode` typically preserves the axis it acts along. In SciPy 1.11.0, this behavior will change: the default value of `keepdims` will become False, the `axis` over which the statistic is taken will be eliminated, and the value None will no longer be accepted. Set `keepdims` to True or False to avoid this warning.\n",
      "  mode, _ = stats.mode(_y[neigh_ind, k], axis=1)\n",
      "\/opt\/python\/envs\/default\/lib\/python3.8\/site-packages\/sklearn\/neighbors\/_classification.py:228: FutureWarning: Unlike other reduction functions (e.g. `skew`, `kurtosis`), the default behavior of `mode` typically preserves the axis it acts along. In SciPy 1.11.0, this behavior will change: the default value of `keepdims` will become False, the `axis` over which the statistic is taken will be eliminated, and the value None will no longer be accepted. Set `keepdims` to True or False to avoid this warning.\n",
      "  mode, _ = stats.mode(_y[neigh_ind, k], axis=1)\n",
      "\/opt\/python\/envs\/default\/lib\/python3.8\/site-packages\/sklearn\/neighbors\/_classification.py:228: FutureWarning: Unlike other reduction functions (e.g. `skew`, `kurtosis`), the default behavior of `mode` typically preserves the axis it acts along. In SciPy 1.11.0, this behavior will change: the default value of `keepdims` will become False, the `axis` over which the statistic is taken will be eliminated, and the value None will no longer be accepted. Set `keepdims` to True or False to avoid this warning.\n",
      "  mode, _ = stats.mode(_y[neigh_ind, k], axis=1)\n",
      "\/opt\/python\/envs\/default\/lib\/python3.8\/site-packages\/sklearn\/neighbors\/_classification.py:228: FutureWarning: Unlike other reduction functions (e.g. `skew`, `kurtosis`), the default behavior of `mode` typically preserves the axis it acts along. In SciPy 1.11.0, this behavior will change: the default value of `keepdims` will become False, the `axis` over which the statistic is taken will be eliminated, and the value None will no longer be accepted. Set `keepdims` to True or False to avoid this warning.\n",
      "  mode, _ = stats.mode(_y[neigh_ind, k], axis=1)\n",
      "\/opt\/python\/envs\/default\/lib\/python3.8\/site-packages\/sklearn\/neighbors\/_classification.py:228: FutureWarning: Unlike other reduction functions (e.g. `skew`, `kurtosis`), the default behavior of `mode` typically preserves the axis it acts along. In SciPy 1.11.0, this behavior will change: the default value of `keepdims` will become False, the `axis` over which the statistic is taken will be eliminated, and the value None will no longer be accepted. Set `keepdims` to True or False to avoid this warning.\n",
      "  mode, _ = stats.mode(_y[neigh_ind, k], axis=1)\n",
      "\/opt\/python\/envs\/default\/lib\/python3.8\/site-packages\/sklearn\/neighbors\/_classification.py:228: FutureWarning: Unlike other reduction functions (e.g. `skew`, `kurtosis`), the default behavior of `mode` typically preserves the axis it acts along. In SciPy 1.11.0, this behavior will change: the default value of `keepdims` will become False, the `axis` over which the statistic is taken will be eliminated, and the value None will no longer be accepted. Set `keepdims` to True or False to avoid this warning.\n",
      "  mode, _ = stats.mode(_y[neigh_ind, k], axis=1)\n"
     ],
     "output_type":"stream"
    }
   ],
   "metadata":{
    "datalore":{
     "node_id":"afdzwKpf9Uq4SOMw1JzYnI",
     "type":"CODE",
     "hide_input_from_viewers":true,
     "hide_output_from_viewers":true
    }
   }
  },
  {
   "cell_type":"code",
   "source":[
    "\n",
    "\n",
    "regressor = DecisionTreeRegressor(random_state=0)\n",
    "regressor.fit(X_train, y_train)\n",
    "predictions = regressor.predict(X_test)\n",
    "mse = mean_squared_error(y_test, predictions)\n",
    "print(\"MSE: \",mse)"
   ],
   "execution_count":31,
   "outputs":[
    {
     "name":"stdout",
     "text":[
      "MSE:  0.30985915492957744\n"
     ],
     "output_type":"stream"
    }
   ],
   "metadata":{
    "datalore":{
     "node_id":"Bj5nq06oEIcJ8mgXEssxw7",
     "type":"CODE",
     "hide_input_from_viewers":true,
     "hide_output_from_viewers":true
    }
   }
  },
  {
   "cell_type":"code",
   "source":[
    "#Feature Importance \n",
    "clf = RandomForestClassifier(max_depth=2, random_state=0)\n",
    "clf.fit(X_train, y_train)\n",
    "plt.barh(features.columns, clf.feature_importances_)"
   ],
   "execution_count":41,
   "outputs":[
    {
     "data":{
      "text\/plain":[
       "<BarContainer object of 28 artists>"
      ]
     },
     "metadata":{
      
     },
     "output_type":"display_data"
    }
   ],
   "metadata":{
    "datalore":{
     "node_id":"bEWdxemJqCzgc9I4sE5AiM",
     "type":"CODE",
     "hide_input_from_viewers":true,
     "hide_output_from_viewers":true
    }
   }
  },
  {
   "cell_type":"markdown",
   "source":[
    "Results: LinearDiscriminantAnalysis ended with the lowest error at about 25.3%. The low error is interesting as every spread bet is -110 odds, meaning you would need to win 52.4% of your bets to break even. In our case, the model would be hitting at 74.7% which could be extremely profitable if it continues long term. \n",
    "\n",
    "For the feature importances, we found it interesting that offensive stats seemed to be the most important metric, and defensive stats seemed to have very little importance. This could be explained by the common observation that teams are generally more consistent on offense, and their defensive performance fluctuates based on the strength of their opponent."
   ],
   "attachments":{
    
   },
   "metadata":{
    "datalore":{
     "node_id":"iK9B9PQNcaUd8JeNdk6QNA",
     "type":"MD",
     "hide_input_from_viewers":true,
     "hide_output_from_viewers":true
    }
   }
  },
  {
   "cell_type":"markdown",
   "source":[
    "## Training and Testing supplementary results\n",
    "\n",
    "Update the target variable to whether the game goes over the total or not. Objective is to see if the features selected are also important in the number of points scored in each game. "
   ],
   "attachments":{
    
   },
   "metadata":{
    "datalore":{
     "node_id":"j0otq3qvWK4HbTVGkHZ6C9",
     "type":"MD",
     "hide_input_from_viewers":true,
     "hide_output_from_viewers":true
    }
   }
  },
  {
   "cell_type":"code",
   "source":[
    "updated_target = nflodds2023['Over Total']\n",
    "\n",
    "over_X_train, over_X_test, over_y_train, over_y_test = train_test_split(features, updated_target, random_state=3000)"
   ],
   "execution_count":39,
   "outputs":[
    
   ],
   "metadata":{
    "datalore":{
     "node_id":"5dBJHCisahaJymvk98ZAlf",
     "type":"CODE",
     "hide_input_from_viewers":true,
     "hide_output_from_viewers":true
    }
   }
  },
  {
   "cell_type":"code",
   "source":[
    "over_lr = LogisticRegression(max_iter=10000)\n",
    "over_lr_model = over_lr.fit(over_X_train, over_y_train)\n",
    "over_lr_test_error = 1 - over_lr_model.score(over_X_test, over_y_test)\n",
    "over_lr_test_error"
   ],
   "execution_count":37,
   "outputs":[
    {
     "data":{
      "text\/plain":[
       "0.49295774647887325"
      ]
     },
     "metadata":{
      
     },
     "output_type":"display_data"
    }
   ],
   "metadata":{
    "datalore":{
     "node_id":"7Nfc2d8T9ZF0PsOQUbDlzM",
     "type":"CODE",
     "hide_input_from_viewers":true,
     "hide_output_from_viewers":true
    }
   }
  },
  {
   "cell_type":"code",
   "source":[
    "over_lda = LinearDiscriminantAnalysis()\n",
    "over_lda_model = over_lda.fit(over_X_train, over_y_train)\n",
    "over_lda_test_error = 1 - over_lda_model.score(over_X_test, over_y_test)\n",
    "over_lda_test_error"
   ],
   "execution_count":36,
   "outputs":[
    {
     "data":{
      "text\/plain":[
       "0.5352112676056338"
      ]
     },
     "metadata":{
      
     },
     "output_type":"display_data"
    }
   ],
   "metadata":{
    "datalore":{
     "node_id":"IXIWyXvDqkbyFNP57wX4QY",
     "type":"CODE",
     "hide_input_from_viewers":true,
     "hide_output_from_viewers":true
    }
   }
  },
  {
   "cell_type":"code",
   "source":[
    "over_qda = QuadraticDiscriminantAnalysis()\n",
    "over_model_qda = over_qda.fit(over_X_train, over_y_train)\n",
    "over_qda_err = 1 - over_model_qda.score(over_X_test, over_y_test)\n",
    "over_qda_err"
   ],
   "execution_count":38,
   "outputs":[
    {
     "data":{
      "text\/plain":[
       "0.5915492957746479"
      ]
     },
     "metadata":{
      
     },
     "output_type":"display_data"
    }
   ],
   "metadata":{
    "datalore":{
     "node_id":"naFf5yAXhBc2yC8OPc0aqB",
     "type":"CODE",
     "hide_input_from_viewers":true,
     "hide_output_from_viewers":true
    }
   }
  },
  {
   "cell_type":"code",
   "source":[
    "clf = RandomForestClassifier(max_depth=2, random_state=0)\n",
    "clf.fit(over_X_train, over_y_train)\n",
    "plt.barh(features.columns, clf.feature_importances_)"
   ],
   "execution_count":40,
   "outputs":[
    {
     "data":{
      "text\/plain":[
       "<BarContainer object of 28 artists>"
      ]
     },
     "metadata":{
      
     },
     "output_type":"display_data"
    },
    {
     "data":{
      "image\/png":"[encoded data removed]"
     },
     "metadata":{
      "image\/png":{
       
      }
     },
     "output_type":"display_data"
    }
   ],
   "metadata":{
    "datalore":{
     "node_id":"bcIZ8CTXoVReRYHwFouZQd",
     "type":"CODE",
     "hide_input_from_viewers":true,
     "hide_output_from_viewers":true
    }
   }
  },
  {
   "cell_type":"markdown",
   "source":[
    "Results of the feature importance - Effective defense has more importance for the totals going over than effective offense, which is interesting as it is the opposite of the results we gathered from the feature importance done for covering spreads. The test errors which were obtained during this analysis were also higher, at 49%, 53%, and 49%, showing that the features may not be as effective for predicting whether the total would go over or not"
   ],
   "attachments":{
    
   },
   "metadata":{
    "datalore":{
     "node_id":"0Cyuq8dfk3MQBC1H8TPkBD",
     "type":"MD",
     "hide_input_from_viewers":true,
     "hide_output_from_viewers":true
    }
   }
  },
  {
   "cell_type":"code",
   "source":[
    
   ],
   "execution_count":null,
   "outputs":[
    
   ],
   "metadata":{
    "datalore":{
     "node_id":"rhyWCmE3LJze7TqKxZW1hE",
     "type":"CODE",
     "hide_input_from_viewers":true,
     "hide_output_from_viewers":true
    }
   }
  }
 ],
 "metadata":{
  "kernelspec":{
   "display_name":"Python",
   "language":"python",
   "name":"python"
  },
  "datalore":{
   "computation_mode":"JUPYTER",
   "package_manager":"pip",
   "base_environment":"default",
   "packages":[
    
   ],
   "report_row_ids":[
    
   ],
   "version":3
  }
 },
 "nbformat":4,
 "nbformat_minor":4
}